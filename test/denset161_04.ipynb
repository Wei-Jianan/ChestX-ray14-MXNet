{
 "cells": [
  {
   "cell_type": "code",
   "execution_count": 1,
   "metadata": {},
   "outputs": [
    {
     "name": "stderr",
     "output_type": "stream",
     "text": [
      "C:\\Users\\weij\\anaconda3\\lib\\site-packages\\h5py\\__init__.py:36: FutureWarning: Conversion of the second argument of issubdtype from `float` to `np.floating` is deprecated. In future, it will be treated as `np.float64 == np.dtype(float).type`.\n",
      "  from ._conv import register_converters as _register_converters\n"
     ]
    }
   ],
   "source": [
    "import sys\n",
    "sys.path.append('..')\n",
    "import dataset\n",
    "import logging\n",
    "import mxnet as mx\n",
    "from mxnet import autograd\n",
    "from mxnet import gluon, image, nd, init, metric\n",
    "import model\n",
    "import utils\n",
    "from dataset import load_data_ChestX_ray14\n",
    "from mxnet.gluon import nn\n",
    "import matplotlib.pyplot as plt"
   ]
  },
  {
   "cell_type": "code",
   "execution_count": 2,
   "metadata": {},
   "outputs": [],
   "source": [
    "lr = 0.001\n",
    "num_epoches = 100\n",
    "momentum = 0.5\n",
    "ctx = utils.try_all_gpus()"
   ]
  },
  {
   "cell_type": "code",
   "execution_count": 3,
   "metadata": {},
   "outputs": [],
   "source": [
    "train_iter, test_iter = load_data_ChestX_ray14(8, resize=224)\n",
    "\n",
    "utils.set_logging_level(level=logging.WARNING)"
   ]
  },
  {
   "cell_type": "code",
   "execution_count": 4,
   "metadata": {},
   "outputs": [],
   "source": [
    "tuning_net = gluon.nn.HybridSequential()\n",
    "dense121_net = gluon.model_zoo.vision.densenet161(pretrained=True, ctx=ctx)\n",
    "output_layer = nn.Dense(14, weight_initializer=init.Xavier())\n",
    "output_layer.initialize(ctx=ctx)\n",
    "with tuning_net.name_scope():\n",
    "    tuning_net.add(dense121_net.features,\n",
    "                   output_layer)\n",
    "\n",
    "net = tuning_net\n"
   ]
  },
  {
   "cell_type": "code",
   "execution_count": 5,
   "metadata": {},
   "outputs": [],
   "source": [
    "trainer = gluon.Trainer(net.collect_params(), 'sgd', {'learning_rate': lr, 'momentum': momentum})\n",
    "# loss_fn = gluon.loss.SoftmaxCrossEntropyLoss(sparse_label=False)\n",
    "loss_fn = gluon.loss.SigmoidBinaryCrossEntropyLoss()"
   ]
  },
  {
   "cell_type": "code",
   "execution_count": null,
   "metadata": {},
   "outputs": [],
   "source": [
    "utils.evaluate_AUC(test_iter, net, ctx)"
   ]
  },
  {
   "cell_type": "code",
   "execution_count": null,
   "metadata": {},
   "outputs": [
    {
     "name": "stdout",
     "output_type": "stream",
     "text": [
      "training on  [gpu(0)]\n"
     ]
    }
   ],
   "source": [
    "utils.train_parallel(train_iter, test_iter, net, loss_fn, trainer, ctx, num_epochs=10 )\n",
    "net.save_params(str(10)+'denset121_07.params')"
   ]
  },
  {
   "cell_type": "code",
   "execution_count": null,
   "metadata": {},
   "outputs": [],
   "source": [
    "utils.train_parallel(train_iter, test_iter, net, loss_fn, trainer, ctx, num_epochs=10 )\n",
    "net.save_params(str(20)+'denset121_07.params')"
   ]
  },
  {
   "cell_type": "code",
   "execution_count": null,
   "metadata": {},
   "outputs": [],
   "source": [
    "utils.train_parallel(train_iter, test_iter, net, loss_fn, trainer, ctx, num_epochs=10 )\n",
    "net.save_params(str(30)+'denset121_07.params')"
   ]
  },
  {
   "cell_type": "code",
   "execution_count": null,
   "metadata": {},
   "outputs": [],
   "source": [
    "utils.train_parallel(train_iter, test_iter, net, loss_fn, trainer, ctx, num_epochs=10 )\n",
    "net.save_params(str(40)+'denset121_07.params')"
   ]
  },
  {
   "cell_type": "code",
   "execution_count": null,
   "metadata": {},
   "outputs": [],
   "source": [
    "utils.train_parallel(train_iter, test_iter, net, loss_fn, trainer, ctx, num_epochs=10 )\n",
    "net.save_params(str(50)+'denset121_07.params')"
   ]
  },
  {
   "cell_type": "code",
   "execution_count": null,
   "metadata": {},
   "outputs": [],
   "source": [
    "utils.train_parallel(train_iter, test_iter, net, loss_fn, trainer, ctx, num_epochs=10 )\n",
    "net.save_params(str(60)+'denset121_07.params')"
   ]
  },
  {
   "cell_type": "code",
   "execution_count": null,
   "metadata": {},
   "outputs": [],
   "source": []
  }
 ],
 "metadata": {
  "kernelspec": {
   "display_name": "Python 3",
   "language": "python",
   "name": "python3"
  }
 },
 "nbformat": 4,
 "nbformat_minor": 2
}
