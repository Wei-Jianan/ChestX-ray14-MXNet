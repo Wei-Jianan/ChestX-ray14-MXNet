{
 "cells": [
  {
   "cell_type": "code",
   "execution_count": 5,
   "metadata": {
    "ExecuteTime": {
     "end_time": "2018-06-14T13:26:00.679109Z",
     "start_time": "2018-06-14T13:26:00.675298Z"
    }
   },
   "outputs": [],
   "source": [
    "import dataset\n",
    "import logging\n",
    "import mxnet as mx\n",
    "from mxnet import autograd\n",
    "from mxnet import gluon, image, nd, init, metric\n",
    "import model\n",
    "import utils\n",
    "from dataset import load_data_ChestX_ray14\n",
    "from mxnet.gluon import nn\n",
    "import matplotlib.pyplot as plt"
   ]
  },
  {
   "cell_type": "code",
   "execution_count": 7,
   "metadata": {
    "ExecuteTime": {
     "end_time": "2018-06-14T13:26:38.188535Z",
     "start_time": "2018-06-14T13:26:38.185932Z"
    }
   },
   "outputs": [],
   "source": [
    "lr = 0.01\n",
    "num_epoches = 100"
   ]
  },
  {
   "cell_type": "code",
   "execution_count": 2,
   "metadata": {
    "ExecuteTime": {
     "end_time": "2018-06-14T13:18:04.056010Z",
     "start_time": "2018-06-14T13:18:03.846239Z"
    }
   },
   "outputs": [],
   "source": [
    "train_iter, test_iter = load_data_ChestX_ray14(30, resize=224)\n",
    "\n",
    "utils.set_logging_level(level=logging.WARNING)"
   ]
  },
  {
   "cell_type": "code",
   "execution_count": 3,
   "metadata": {
    "ExecuteTime": {
     "end_time": "2018-06-14T13:18:04.347969Z",
     "start_time": "2018-06-14T13:18:04.057581Z"
    }
   },
   "outputs": [],
   "source": [
    "net = model.get_pretrained_resnet50()\n",
    "\n",
    "trainer = gluon.Trainer(net.collect_params(), 'sgd', {'learning_rate': 0.01})\n",
    "loss_fn = gluon.loss.SoftmaxCrossEntropyLoss(sparse_label=False)\n",
    "ctx = utils.try_all_gpus()"
   ]
  },
  {
   "cell_type": "code",
   "execution_count": 4,
   "metadata": {
    "ExecuteTime": {
     "end_time": "2018-06-14T13:18:17.575285Z",
     "start_time": "2018-06-14T13:18:04.350290Z"
    }
   },
   "outputs": [
    {
     "data": {
      "text/plain": [
       "2.1647082964579263"
      ]
     },
     "execution_count": 4,
     "metadata": {},
     "output_type": "execute_result"
    }
   ],
   "source": [
    "# utils.evaluate_AUC(test_iter, net, ctx)\n",
    "utils.evaluate_loss(test_iter, net)"
   ]
  },
  {
   "cell_type": "code",
   "execution_count": null,
   "metadata": {},
   "outputs": [],
   "source": [
    "utils.train_parallel(train_iter, test_iter, net, loss_fn, trainer, ctx, num_epochs=num_epoches )"
   ]
  }
 ],
 "metadata": {
  "kernelspec": {
   "display_name": "Python 3",
   "language": "python",
   "name": "python3"
  },
  "language_info": {
   "codemirror_mode": {
    "name": "ipython",
    "version": 3
   },
   "file_extension": ".py",
   "mimetype": "text/x-python",
   "name": "python",
   "nbconvert_exporter": "python",
   "pygments_lexer": "ipython3",
   "version": "3.6.5"
  }
 },
 "nbformat": 4,
 "nbformat_minor": 2
}
